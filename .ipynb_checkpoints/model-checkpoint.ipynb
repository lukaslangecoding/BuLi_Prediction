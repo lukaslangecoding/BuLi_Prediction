{
 "cells": [
  {
   "cell_type": "code",
   "execution_count": 6,
   "id": "32d350f6",
   "metadata": {},
   "outputs": [],
   "source": [
    "import pandas as pd\n",
    "import numpy as np\n",
    "import matplotlib.pyplot as plt\n",
    "#imports needed for working with the API\n",
    "from urllib.request import urlopen\n",
    "import json\n",
    "#imports needed for creating the model\n",
    "from sklearn.model_selection import train_test_split\n",
    "from sklearn.linear_model import LinearRegression\n",
    "from sklearn.metrics import r2_score"
   ]
  },
  {
   "cell_type": "markdown",
   "id": "f119c5dc",
   "metadata": {},
   "source": [
    "First I have to get the data. I am using an API called OpenLigaDB."
   ]
  },
  {
   "cell_type": "code",
   "execution_count": null,
   "id": "181d9e42",
   "metadata": {},
   "outputs": [],
   "source": [
    "#url = \"https://api.openligadb.de/getmatchdata/bl1/\" + str(season) + \"/\" + str(gameday)\n",
    "\n",
    "#In the beginning I want to get as much data as possible - starting from the first available season to the last gameday of the current season\n"
   ]
  },
  {
   "cell_type": "code",
   "execution_count": null,
   "id": "246e3fc8",
   "metadata": {},
   "outputs": [],
   "source": []
  }
 ],
 "metadata": {
  "kernelspec": {
   "display_name": "Python 3 (ipykernel)",
   "language": "python",
   "name": "python3"
  },
  "language_info": {
   "codemirror_mode": {
    "name": "ipython",
    "version": 3
   },
   "file_extension": ".py",
   "mimetype": "text/x-python",
   "name": "python",
   "nbconvert_exporter": "python",
   "pygments_lexer": "ipython3",
   "version": "3.9.12"
  }
 },
 "nbformat": 4,
 "nbformat_minor": 5
}
